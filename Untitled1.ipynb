{
  "nbformat": 4,
  "nbformat_minor": 0,
  "metadata": {
    "colab": {
      "provenance": [],
      "gpuType": "T4",
      "authorship_tag": "ABX9TyNeChrPLutQ8GNmzTxuJdtG",
      "include_colab_link": true
    },
    "kernelspec": {
      "name": "python3",
      "display_name": "Python 3"
    },
    "language_info": {
      "name": "python"
    },
    "accelerator": "GPU"
  },
  "cells": [
    {
      "cell_type": "markdown",
      "metadata": {
        "id": "view-in-github",
        "colab_type": "text"
      },
      "source": [
        "<a href=\"https://colab.research.google.com/github/markiroberts/gogglecolab01/blob/main/Untitled1.ipynb\" target=\"_parent\"><img src=\"https://colab.research.google.com/assets/colab-badge.svg\" alt=\"Open In Colab\"/></a>"
      ]
    },
    {
      "cell_type": "code",
      "execution_count": 4,
      "metadata": {
        "colab": {
          "base_uri": "https://localhost:8080/",
          "height": 35
        },
        "id": "ryrugOCJE286",
        "outputId": "9cfb80f9-39ee-4ef3-8d4c-f5f24c6d3b6f"
      },
      "outputs": [
        {
          "output_type": "execute_result",
          "data": {
            "text/plain": [
              "'2.1.0+cu121'"
            ],
            "application/vnd.google.colaboratory.intrinsic+json": {
              "type": "string"
            }
          },
          "metadata": {},
          "execution_count": 4
        }
      ],
      "source": [
        "# Import PyTorch and matplotlib\n",
        "import torch\n",
        "from torch import nn\n",
        "import matplotlib as plt\n",
        "\n",
        "# Check PyTorch Version\n",
        "torch.__version__"
      ]
    },
    {
      "cell_type": "code",
      "source": [
        "def plot_predictions(xtrain, ytrain, xtest, ytest):\n",
        "\n",
        "  plt.pyplot.scatter(xtrain, ytrain,  c=\"Blue\",    marker=\".\", label=\"Training data\")\n",
        "  plt.pyplot.scatter(xtest,  ytest,   c=\"Green\",   marker=\".\", label=\"Testing data\")\n",
        "  plt.pyplot.legend()"
      ],
      "metadata": {
        "id": "ZCo0A_rnRJ1k"
      },
      "execution_count": 70,
      "outputs": []
    },
    {
      "cell_type": "markdown",
      "source": [
        "Create device-agnostic code\n",
        "\n",
        "This means if we've got access to a GPU, our code will use"
      ],
      "metadata": {
        "id": "6IweyXq-FUEK"
      }
    },
    {
      "cell_type": "code",
      "source": [
        "# Setup device agnostic code.\n",
        "device = \"cuda\" if torch.cuda.is_available() else \"cpu\"\n",
        "print (f\"Device: {device}\")"
      ],
      "metadata": {
        "colab": {
          "base_uri": "https://localhost:8080/"
        },
        "id": "hzECjN2LFTog",
        "outputId": "f0f59ee4-cc8c-4f94-a898-581b1040790a"
      },
      "execution_count": 5,
      "outputs": [
        {
          "output_type": "stream",
          "name": "stdout",
          "text": [
            "Device: cuda\n"
          ]
        }
      ]
    },
    {
      "cell_type": "code",
      "source": [
        "# Create a known graph\n",
        "weight = 0.4\n",
        "bias = 0.7\n",
        "\n",
        "# Create\n",
        "start = 0\n",
        "step = 0.01\n",
        "end = 1\n",
        "# unsqueeze (dim=1) truns into a column? vector\n",
        "X = torch.arange(start, end+step, step).unsqueeze(dim=1)\n",
        "y = weight * X + bias\n",
        "\n",
        "# Create training set\n",
        "train_split = int(0.8 * len(X))\n",
        "X_train, y_train = X[:train_split], y[:train_split]\n",
        "X_test, y_test   = X[train_split:], y[train_split:]\n",
        "\n",
        "#plot1 = plt.pyplot.scatter(x=X_train, y=y_train)\n",
        "#plot2 = plt.pyplot.scatter(x=X_test, y=y_test)\n",
        "\n",
        "#len(X_train)\n",
        "\n",
        "plot_predictions(X_train, y_train, X_test, y_test)\n",
        "\n",
        "\n"
      ],
      "metadata": {
        "colab": {
          "base_uri": "https://localhost:8080/",
          "height": 430
        },
        "id": "mWKyDDHvL69s",
        "outputId": "26eb2e08-c3ec-4e16-9c20-059021c2ee19"
      },
      "execution_count": 69,
      "outputs": [
        {
          "output_type": "display_data",
          "data": {
            "text/plain": [
              "<Figure size 640x480 with 1 Axes>"
            ],
            "image/png": "[encoded data removed]"
          },
          "metadata": {}
        }
      ]
    }
  ]
}
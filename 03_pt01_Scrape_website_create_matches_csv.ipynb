{
  "nbformat": 4,
  "nbformat_minor": 0,
  "metadata": {
    "colab": {
      "provenance": [],
      "authorship_tag": "ABX9TyOr6IMWhe7O8ofbOWDtS9pF",
      "include_colab_link": true
    },
    "kernelspec": {
      "name": "python3",
      "display_name": "Python 3"
    },
    "language_info": {
      "name": "python"
    }
  },
  "cells": [
    {
      "cell_type": "markdown",
      "metadata": {
        "id": "view-in-github",
        "colab_type": "text"
      },
      "source": [
        "<a href=\"https://colab.research.google.com/github/markiroberts/gogglecolab01/blob/main/03_pt01_Scrape_website_create_matches_csv.ipynb\" target=\"_parent\"><img src=\"https://colab.research.google.com/assets/colab-badge.svg\" alt=\"Open In Colab\"/></a>"
      ]
    },
    {
      "cell_type": "code",
      "source": [
        "import time\n",
        "import requests\n",
        "import pandas as pd\n",
        "from bs4 import BeautifulSoup\n",
        "\n",
        "years = list(range(2023,2020, -1))\n",
        "all_matches = []\n",
        "standings_url = \"https://fbref.com/en/comps/9/Premier-League-Stats\"\n",
        "for year in years:\n",
        "  pl_stats = requests.get(standings_url)\n",
        "  pl_stats_soup = BeautifulSoup(pl_stats.text)\n",
        "  standings_table_soup = pl_stats_soup.select('table.stats_table')[0]\n",
        "  standings_table_links = standings_table_soup.find_all('a')\n",
        "\n",
        "  squad_links_set = set()\n",
        "  for link in standings_table_links:\n",
        "    m = link.get(\"href\")\n",
        "    if '/squads' in m:\n",
        "      m = f\"https://fbref.com{m}\"\n",
        "      squad_links_set.add(m)\n",
        "\n",
        "  previous_season_href = pl_stats_soup.select(\"a.prev\")[0].get(\"href\")\n",
        "  standings_url = f\"https://fbref.com{previous_season_href}\"\n",
        "\n",
        "  for team_url in squad_links_set:\n",
        "    team_name = team_url.split(\"/\")[-1].replace(\"-Stats\",\"\").replace(\"-\",\" \")\n",
        "    print(f\"year {year} | team {team_name}\")\n",
        "    team_data = requests.get(team_url)\n",
        "    matches = pd.read_html(team_data.text, match=\"Scores & Fixtures\")[0]\n",
        "    matches = matches.drop(columns=['Notes','Match Report'])\n",
        "    matches = matches.dropna()\n",
        "    team_soup = BeautifulSoup(team_data.text)\n",
        "    team_links = team_soup.find_all('a')\n",
        "    team_shoot_links = set()\n",
        "    for link in team_links:\n",
        "        m = link.get(\"href\")\n",
        "        if m:\n",
        "          if 'all_comps/shooting' in m:\n",
        "            m = f\"https://fbref.com{m}\"\n",
        "            team_shoot_links.add(m)\n",
        "    shooting_data = requests.get(list(team_shoot_links)[0])\n",
        "    team_shooting = pd.read_html(shooting_data.text, match=\"Shooting\")[0]\n",
        "    team_shooting.columns = team_shooting.columns.droplevel()\n",
        "    try:\n",
        "      team_data = matches.merge(team_shooting[[\"Date\", \"Sh\", \"SoT\", \"Dist\", \"FK\", \"PK\", \"PKatt\"]],on=\"Date\")\n",
        "    except ValueError:\n",
        "      continue\n",
        "    team_data = team_data[team_data[\"Comp\"] == \"Premier League\"]\n",
        "    team_data[\"Season\"] = year\n",
        "    team_data[\"Team\"] = team_name\n",
        "    all_matches.append(team_data)\n",
        "    time.sleep(1)\n",
        "\n",
        "match_df = pd.concat(all_matches)\n",
        "match_df.columns = [c.lower() for c in match_df.columns]\n",
        "match_df.to_csv(\"matches.csv\")"
      ],
      "metadata": {
        "colab": {
          "base_uri": "https://localhost:8080/"
        },
        "id": "1L4hCXm7mL3S",
        "outputId": "d60e6275-2f3e-42a6-befb-b591579d1117"
      },
      "execution_count": 181,
      "outputs": [
        {
          "output_type": "stream",
          "name": "stdout",
          "text": [
            "year 2023 | team Nottingham Forest\n",
            "year 2023 | team Aston Villa\n",
            "year 2023 | team Newcastle United\n",
            "year 2023 | team West Ham United\n",
            "year 2023 | team Bournemouth\n",
            "year 2023 | team Everton\n",
            "year 2023 | team Crystal Palace\n",
            "year 2023 | team Manchester United\n",
            "year 2023 | team Arsenal\n",
            "year 2023 | team Liverpool\n",
            "year 2023 | team Fulham\n",
            "year 2023 | team Burnley\n",
            "year 2023 | team Brentford\n",
            "year 2023 | team Brighton and Hove Albion\n",
            "year 2023 | team Tottenham Hotspur\n",
            "year 2023 | team Manchester City\n",
            "year 2023 | team Sheffield United\n",
            "year 2023 | team Chelsea\n",
            "year 2023 | team Luton Town\n",
            "year 2023 | team Wolverhampton Wanderers\n",
            "year 2022 | team West Ham United\n",
            "year 2022 | team Leicester City\n",
            "year 2022 | team Tottenham Hotspur\n",
            "year 2022 | team Liverpool\n",
            "year 2022 | team Crystal Palace\n",
            "year 2022 | team Manchester United\n",
            "year 2022 | team Everton\n",
            "year 2022 | team Leeds United\n",
            "year 2022 | team Aston Villa\n",
            "year 2022 | team Brentford\n",
            "year 2022 | team Arsenal\n",
            "year 2022 | team Newcastle United\n",
            "year 2022 | team Wolverhampton Wanderers\n",
            "year 2022 | team Southampton\n",
            "year 2022 | team Bournemouth\n",
            "year 2022 | team Fulham\n",
            "year 2022 | team Nottingham Forest\n",
            "year 2022 | team Brighton and Hove Albion\n",
            "year 2022 | team Manchester City\n",
            "year 2022 | team Chelsea\n",
            "year 2021 | team Southampton\n",
            "year 2021 | team Tottenham Hotspur\n",
            "year 2021 | team Watford\n",
            "year 2021 | team Chelsea\n",
            "year 2021 | team Liverpool\n",
            "year 2021 | team Brighton and Hove Albion\n",
            "year 2021 | team Aston Villa\n",
            "year 2021 | team Manchester United\n",
            "year 2021 | team Wolverhampton Wanderers\n",
            "year 2021 | team Crystal Palace\n",
            "year 2021 | team Manchester City\n",
            "year 2021 | team Brentford\n",
            "year 2021 | team Norwich City\n",
            "year 2021 | team Leicester City\n",
            "year 2021 | team Newcastle United\n",
            "year 2021 | team Burnley\n",
            "year 2021 | team Arsenal\n",
            "year 2021 | team Everton\n",
            "year 2021 | team West Ham United\n",
            "year 2021 | team Leeds United\n"
          ]
        }
      ]
    },
    {
      "cell_type": "code",
      "source": [],
      "metadata": {
        "id": "XNKYNh5exQCT"
      },
      "execution_count": 180,
      "outputs": []
    }
  ]
}
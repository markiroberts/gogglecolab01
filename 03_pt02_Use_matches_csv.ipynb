{
  "nbformat": 4,
  "nbformat_minor": 0,
  "metadata": {
    "colab": {
      "provenance": [],
      "authorship_tag": "ABX9TyNkn4B66GqG7/VK447drJhh",
      "include_colab_link": true
    },
    "kernelspec": {
      "name": "python3",
      "display_name": "Python 3"
    },
    "language_info": {
      "name": "python"
    }
  },
  "cells": [
    {
      "cell_type": "markdown",
      "metadata": {
        "id": "view-in-github",
        "colab_type": "text"
      },
      "source": [
        "<a href=\"https://colab.research.google.com/github/markiroberts/gogglecolab01/blob/main/03_pt02_Use_matches_csv.ipynb\" target=\"_parent\"><img src=\"https://colab.research.google.com/assets/colab-badge.svg\" alt=\"Open In Colab\"/></a>"
      ]
    },
    {
      "cell_type": "code",
      "execution_count": 224,
      "metadata": {
        "id": "96q47K5P4PuI",
        "colab": {
          "base_uri": "https://localhost:8080/"
        },
        "outputId": "b864e17a-0353-43e6-b692-558163e0df58"
      },
      "outputs": [
        {
          "output_type": "stream",
          "name": "stdout",
          "text": [
            "   season     team         opponent        date\n",
            "0    2021  Arsenal        Brentford  2021-08-13\n",
            "1    2021  Arsenal          Chelsea  2021-08-22\n",
            "2    2021  Arsenal  Manchester City  2021-08-28\n",
            "3    2021  Arsenal     Norwich City  2021-09-11\n",
            "4    2021  Arsenal          Burnley  2021-09-18\n",
            "      season                     team         opponent        date\n",
            "1875    2023  Wolverhampton Wanderers          Arsenal  2023-12-02\n",
            "1876    2023  Wolverhampton Wanderers          Burnley  2023-12-05\n",
            "1877    2023  Wolverhampton Wanderers  Nott'ham Forest  2023-12-09\n",
            "1878    2023  Wolverhampton Wanderers         West Ham  2023-12-17\n",
            "1879    2023  Wolverhampton Wanderers          Chelsea  2023-12-24\n"
          ]
        }
      ],
      "source": [
        "import os\n",
        "import pandas as pd\n",
        "import numpy as np\n",
        "from google.colab import drive\n",
        "from google.colab import data_table\n",
        "from sklearn.ensemble import RandomForestClassifier\n",
        "from sklearn.metrics import accuracy_score\n",
        "from sklearn.metrics import precision_score\n",
        "\n",
        "data_table.enable_dataframe_formatter()\n",
        "\n",
        "directory_path = \"/content/drive/MyDrive/ColabData/\"\n",
        "try:\n",
        "  os.stat(directory_path)\n",
        "except:\n",
        "  print(f\"Cant access {directory_path}\")\n",
        "  drive.mount('/content/drive')\n",
        "\n",
        "match_df = pd.read_csv(\"/content/drive/MyDrive/ColabData/matches.csv\", index_col=0)\n",
        "\n",
        "match_df = match_df.sort_values([\"season\", \"team\", \"date\"])\n",
        "match_df = match_d2.reset_index(drop=True)\n",
        "\n",
        "print(match_df[[\"season\", \"team\", \"opponent\",\"date\"]].head())\n",
        "print(match_df[[\"season\", \"team\", \"opponent\",\"date\"]].tail())"
      ]
    },
    {
      "cell_type": "code",
      "source": [
        "def rolling_averages(group, cols):\n",
        "  new_cols = []\n",
        "  for x in cols:\n",
        "    y = x + \"_rolling\"\n",
        "    new_cols.append(y)\n",
        "  group = group.sort_values(\"dateandtime\")\n",
        "  rolling_stats = group[cols].rolling(3, closed='left').mean()\n",
        "  group[new_cols] = rolling_stats\n",
        "  group = group.dropna(subset=new_cols)\n",
        "  return group, new_cols\n",
        "\n",
        "\n",
        "cols = [\"gf\", \"ga\", \"sh\", \"sot\", \"dist\", \"fk\", \"pk\", \"pkatt\"]\n",
        "match_rolling = rolling_averages(match_team, cols)\n",
        "match_rolling"
      ],
      "metadata": {
        "colab": {
          "base_uri": "https://localhost:8080/"
        },
        "id": "eyyJygp3v6Xi",
        "outputId": "091c2a67-7810-4596-87e5-090456db6c3d"
      },
      "execution_count": 288,
      "outputs": [
        {
          "output_type": "execute_result",
          "data": {
            "text/plain": [
              "(      Unnamed: 0        date   time            comp         round  day   gf  \\\n",
              " 1427           3  2021-09-11  15:00  Premier League   Matchweek 4  Sat  2.0   \n",
              " 1428           4  2021-09-18  12:30  Premier League   Matchweek 5  Sat  0.0   \n",
              " 1429           5  2021-09-26  14:00  Premier League   Matchweek 6  Sun  1.0   \n",
              " 1430           6  2021-10-02  15:00  Premier League   Matchweek 7  Sat  2.0   \n",
              " 1431           7  2021-10-16  15:00  Premier League   Matchweek 8  Sat  3.0   \n",
              " ...          ...         ...    ...             ...           ...  ...  ...   \n",
              " 357           13  2023-12-02  15:00  Premier League  Matchweek 14  Sat  1.0   \n",
              " 358           14  2023-12-05  19:30  Premier League  Matchweek 15  Tue  1.0   \n",
              " 359           15  2023-12-09  15:00  Premier League  Matchweek 16  Sat  1.0   \n",
              " 360           16  2023-12-17  14:00  Premier League  Matchweek 17  Sun  0.0   \n",
              " 361           17  2023-12-24  13:00  Premier League  Matchweek 18  Sun  2.0   \n",
              " \n",
              "        ga         opponent   xg  ...  result  dayofweek  gf_rolling  \\\n",
              " 1427  0.0          Watford  2.2  ...     1.0          5    0.000000   \n",
              " 1428  2.0        Brentford  0.6  ...    -1.0          5    0.666667   \n",
              " 1429  0.0      Southampton  1.0  ...     1.0          6    0.666667   \n",
              " 1430  1.0    Newcastle Utd  1.0  ...     1.0          5    1.000000   \n",
              " 1431  2.0      Aston Villa  2.0  ...     1.0          5    1.000000   \n",
              " ...   ...              ...  ...  ...     ...        ...         ...   \n",
              " 357   2.0          Arsenal  0.7  ...    -1.0          5    1.666667   \n",
              " 358   0.0          Burnley  0.8  ...     1.0          1    1.666667   \n",
              " 359   1.0  Nott'ham Forest  1.2  ...     0.0          5    1.333333   \n",
              " 360   3.0         West Ham  0.7  ...    -1.0          6    1.000000   \n",
              " 361   1.0          Chelsea  1.3  ...     1.0          6    0.666667   \n",
              " \n",
              "      ga_rolling sh_rolling sot_rolling  dist_rolling  fk_rolling  pk_rolling  \\\n",
              " 1427   1.000000  19.000000    4.666667     18.033333    0.000000    0.000000   \n",
              " 1428   0.666667  18.000000    5.333333     17.533333    0.333333    0.000000   \n",
              " 1429   1.000000  13.333333    3.333333     18.366667    0.666667    0.000000   \n",
              " 1430   0.666667  10.000000    2.666667     17.566667    0.666667    0.000000   \n",
              " 1431   1.000000   7.666667    2.000000     18.666667    0.333333    0.000000   \n",
              " ...         ...        ...         ...           ...         ...         ...   \n",
              " 357    2.000000  12.000000    4.000000     17.533333    0.333333    0.333333   \n",
              " 358    2.000000  10.666667    4.000000     15.300000    0.000000    0.333333   \n",
              " 359    1.666667   7.333333    4.000000     14.400000    0.333333    0.333333   \n",
              " 360    1.000000   7.666667    3.666667     13.933333    0.333333    0.000000   \n",
              " 361    1.333333  10.333333    3.666667     17.166667    0.333333    0.000000   \n",
              " \n",
              "       pkatt_rolling  \n",
              " 1427       0.000000  \n",
              " 1428       0.000000  \n",
              " 1429       0.000000  \n",
              " 1430       0.000000  \n",
              " 1431       0.000000  \n",
              " ...             ...  \n",
              " 357        0.333333  \n",
              " 358        0.333333  \n",
              " 359        0.333333  \n",
              " 360        0.000000  \n",
              " 361        0.000000  \n",
              " \n",
              " [91 rows x 43 columns],\n",
              " ['gf_rolling',\n",
              "  'ga_rolling',\n",
              "  'sh_rolling',\n",
              "  'sot_rolling',\n",
              "  'dist_rolling',\n",
              "  'fk_rolling',\n",
              "  'pk_rolling',\n",
              "  'pkatt_rolling'])"
            ]
          },
          "metadata": {},
          "execution_count": 288
        }
      ]
    },
    {
      "cell_type": "code",
      "source": [
        "#df = pd.DataFrame({'B': [0, 1, 2, 3, 4]})\n",
        "#df['Bavg2'] = df.B.shift(1).rolling(window=2).mean()\n",
        "#df = df.dropna(subset='Bavg2')\n",
        "#https://fbref.com/en/comps/9/Premier-League-Stats\n",
        "\n",
        "teamdict = {\n",
        "\"Wolverhampton Wanderers\": \"Wolves\",\n",
        "\"Brighton and Hove Albion\": \"Brighton\",\n",
        "\"West Ham United\": \"West Ham\",\n",
        "\"Tottenham Hotspur\": \"Tottenham\",\n",
        "\"Manchester United\": \"Manchester Utd\",\n",
        "\"Newcastle United\": \"Newcastle Utd\",\n",
        "\"Sheffield United\": \"Sheffield Utd\",\n",
        "\"Nottingham Forest\": \"Nott'ham Forest\"\n",
        "}\n",
        "\n",
        "def getTeam(team):\n",
        "  opponent = teamdict.get(team,None)\n",
        "  if opponent:\n",
        "    return opponent\n",
        "  else:\n",
        "    return team\n",
        "\n",
        "\n",
        "match_df = pd.read_csv(\"/content/drive/MyDrive/ColabData/matches.csv\")\n",
        "match_df.head()\n",
        "\n",
        "# the team name an opponent list are initially not the same !?\n",
        "# translate team to the equivalent from oponent list 'Sheffield United -> Sheffield Utd.' etc.\n",
        "match_df['team'] = match_df.apply(lambda row: getTeam(row.team), axis=1)\n",
        "teamset = sorted(set(match_df['team'].tolist()))\n",
        "opponentset = sorted(set(match_df['opponent'].tolist()))\n",
        "allmatch_team = pd.DataFrame()\n",
        "\n",
        "for team in teamset:\n",
        "  options = []\n",
        "  options.append(team)\n",
        "\n",
        "# selecting rows based on condition\n",
        "\n",
        "  match_team = match_df[match_df['team'].isin(options)].copy()\n",
        "#  match_team['result_text'] = match_team['result']\n",
        "#  match_team['venue_text'] = match_team['venue']\n",
        "  match_team[\"venue_code\"] = match_team[\"venue\"].astype(\"category\").cat.codes\n",
        "#  match_team['at_home'] = match_team.apply(lambda row: row.venue == 'Home', axis=1)\n",
        "  match_team['result_text'] = match_team.apply(lambda row: row.result, axis=1)\n",
        "#  match_team['home'] = match_team.apply(lambda row: row.venue, axis=1)\n",
        "  selection = ['result','venue']\n",
        "  match_team = pd.get_dummies(match_team, columns=selection)\n",
        "#  match_team['venue_code'] = match_team[\"venue\"].astype(\"category\")\n",
        "  match_team['dateandtime'] = pd.to_datetime( match_team['date'] + ' ' + match_team['time'])\n",
        "  match_team['hour'] = match_team['dateandtime'].dt.hour\n",
        "  match_team['result'] = 1.0 * match_team['result_W'] - 1.0 * match_team['result_L']\n",
        "  match_team.sort_values(\"dateandtime\")\n",
        "\n",
        "  match_team['dayofweek'] = match_team.apply(lambda row: row.dateandtime.weekday(), axis=1)\n",
        "\n",
        "#  match_team['result_1']    = match_team.result.shift(1).rolling(window=1).mean()\n",
        "#  match_team['result_L_1']  = match_team.result_L.shift(1).rolling(window=1).mean()\n",
        "#  match_team['result_D_1']  = match_team.result_D.shift(1).rolling(window=1).mean()\n",
        "#  match_team['result_W_1']  = match_team.result_W.shift(1).rolling(window=1).mean()\n",
        "#  match_team['gf_1']        = match_team.gf.shift(1).rolling(window=1).mean()\n",
        "#  match_team['ga_1']        = match_team.ga.shift(1).rolling(window=1).mean()\n",
        "#  match_team['sh_1']        = match_team.sh.shift(1).rolling(window=1).mean()\n",
        "#  match_team['sot_1']       = match_team.sot.shift(1).rolling(window=1).mean()\n",
        "#  match_team['fk_1']        = match_team.fk.shift(1).rolling(window=1).mean()\n",
        "#  match_team['pk_1']        = match_team.pk.shift(1).rolling(window=1).mean()\n",
        "#  match_team['pkatt_1']     = match_team.pkatt.shift(1).rolling(window=1).mean()\n",
        "#  match_team['xg_1']        = match_team.xg.shift(1).rolling(window=1).mean()\n",
        "#  match_team['xga_1']       = match_team.xga.shift(1).rolling(window=1).mean()\n",
        "#  match_team['poss_1']      = match_team.poss.shift(1).rolling(window=1).mean()\n",
        "\n",
        "#  match_team['result_L_3']  = match_team.result_L.shift(1).rolling(window=3).mean()\n",
        "#  match_team['result_D_3']  = match_team.result_D.shift(1).rolling(window=3).mean()\n",
        "#  match_team['result_W_3']  = match_team.result_W.shift(1).rolling(window=3).mean()\n",
        "#  match_team['gf_3']        = match_team.gf.shift(1).rolling(window=3).mean()\n",
        "#  match_team['ga_3']        = match_team.ga.shift(1).rolling(window=3).mean()\n",
        "#  match_team['sh_3']        = match_team.ga.shift(1).rolling(window=1).mean()\n",
        "#  match_team['sot_3']       = match_team.sot.shift(1).rolling(window=3).mean()\n",
        "#  match_team['fk_3']        = match_team.fk.shift(1).rolling(window=3).mean()\n",
        "#  match_team['pk_3']        = match_team.pk.shift(1).rolling(window=3).mean()\n",
        "#  match_team['pkatt_3']     = match_team.pkatt.shift(1).rolling(window=3).mean()\n",
        "#  match_team['xg_3']        = match_team.xg.shift(1).rolling(window=1).mean()\n",
        "#  match_team['xga_3']       = match_team.xga.shift(1).rolling(window=1).mean()\n",
        "#  match_team['poss_3']      = match_team.poss.shift(1).rolling(window=1).mean()\n",
        "\n",
        "#  match_team['result_3']   = match_team.result.shift(1).rolling(window=3).mean()\n",
        "#  match_team['result_L_5'] = match_team.result_L.shift(1).rolling(window=5).mean()\n",
        "#  match_team['result_D_5'] = match_team.result_D.shift(1).rolling(window=5).mean()\n",
        "#  match_team['result_W_5'] = match_team.result_W.shift(1).rolling(window=5).mean()\n",
        "#  match_team['gf_5']        = match_team.gf.shift(1).rolling(window=5).mean()\n",
        "#  match_team['ga_5']        = match_team.ga.shift(1).rolling(window=5).mean()\n",
        "#  match_team['sh_5']        = match_team.sh.shift(1).rolling(window=5).mean()\n",
        "#  match_team['sot_5']       = match_team.sot.shift(1).rolling(window=5).mean()\n",
        "#  match_team['fk_5']        = match_team.fk.shift(1).rolling(window=5).mean()\n",
        "#  match_team['pk_5']        = match_team.pk.shift(1).rolling(window=5).mean()\n",
        "#  match_team['pkatt_5']     = match_team.pkatt.shift(1).rolling(window=5).mean()\n",
        "#  match_team['xg_5']        = match_team.xg.shift(1).rolling(window=5).mean()\n",
        "#  match_team['xga_5']       = match_team.xga.shift(1).rolling(window=5).mean()\n",
        "#  match_team['poss_5']      = match_team.poss.shift(1).rolling(window=5).mean()\n",
        "#  match_team['result_5']   = match_team.result.shift(1).rolling(window=5).mean()\n",
        "\n",
        "  match_team = match_team.dropna()\n",
        "\n",
        "  matchedcols = []\n",
        "  columnlist = ['dateandtime','hour','season','result','result',  'sh', 'sot', 'gf', 'dist', 'ga', 'day', 'xg', 'hour', 'fk', 'pk', 'poss', 'team', 'opponent','season', 'venue_code', 'result_text']\n",
        "  for findcol in match_team.columns:\n",
        "    for matchcol in columnlist:\n",
        "      if findcol.startswith(matchcol):\n",
        "        if findcol not in matchedcols:\n",
        "          matchedcols.append(findcol)\n",
        "  newmatch_team = match_team[matchedcols]\n",
        "  allmatch_team = pd.concat([allmatch_team,newmatch_team], ignore_index=True)\n",
        "\n",
        "\n",
        "allmatch_team = allmatch_team.sort_values(by=['team','dateandtime'], ignore_index=True)\n",
        "allmatch_team = allmatch_team.reset_index(drop=True)\n",
        "allmatch_team[\"team_code\"] = allmatch_team[\"team\"].astype(\"category\").cat.codes\n",
        "allmatch_team[\"opp_code\"] = allmatch_team[\"opponent\"].astype(\"category\").cat.codes\n",
        "allmatch_team[\"target\"] = (allmatch_team[\"result_text\"] == \"W\").astype(\"int\")\n",
        "\n",
        "cols = [\"gf\", \"ga\", \"sh\", \"sot\", \"dist\", \"fk\", \"pk\", \"pkatt\"]\n",
        "allmatch_rolling = allmatch_team.groupby(\"team\").apply(lambda x: rolling_averages(x, cols))\n",
        "allmatch_rolling = allmatch_rolling.droplevel('team')\n",
        "allmatch_rolling = allmatch_rolling.dropna()\n",
        "allmatch_rolling.index = range(allmatch_rolling.shape[0])\n",
        "allmatch_rolling[\"team\"]"
      ],
      "metadata": {
        "id": "6KzAKYX7NFEN",
        "colab": {
          "base_uri": "https://localhost:8080/"
        },
        "outputId": "72211b20-15b4-4588-f2da-8d89d848daa5"
      },
      "execution_count": 278,
      "outputs": [
        {
          "output_type": "execute_result",
          "data": {
            "text/plain": [
              "0       Arsenal\n",
              "1       Arsenal\n",
              "2       Arsenal\n",
              "3       Arsenal\n",
              "4       Arsenal\n",
              "         ...   \n",
              "1800     Wolves\n",
              "1801     Wolves\n",
              "1802     Wolves\n",
              "1803     Wolves\n",
              "1804     Wolves\n",
              "Name: team, Length: 1805, dtype: object"
            ]
          },
          "metadata": {},
          "execution_count": 278
        }
      ]
    },
    {
      "cell_type": "code",
      "source": [
        "def make_predictions(data, predictors):\n",
        "  rf = RandomForestClassifier(n_estimators=50, min_samples_split=10, random_state=42)\n",
        "  train = data[data[\"dateandtime\"] < '2023-07-01']\n",
        "  test = data[data[\"dateandtime\"] >= '2023-07-01']\n",
        "  rf.fit( train[predictors], train[\"target\"])\n",
        "  preds = rf.predict(test[predictors])\n",
        "  combined = pd.DataFrame(dict(actual=test[\"target\"], prediction=preds))\n",
        "  precision = precision_score(test[\"target\"], preds)\n",
        "  print( f\"predictors: {predictors} | accuracy: {accuracy} | precision: {precision}\" )\n",
        "  return combined, precision"
      ],
      "metadata": {
        "id": "o-u2XhUcv6Lp"
      },
      "execution_count": 286,
      "outputs": []
    },
    {
      "cell_type": "code",
      "source": [
        "predictors = [\"venue_code\", \"opp_code\", \"hour\", \"dayofweek\"]\n",
        "combined, precision = make_predictions(allmatch_rolling, predictors)"
      ],
      "metadata": {
        "colab": {
          "base_uri": "https://localhost:8080/"
        },
        "id": "kdI2UOhZqlsp",
        "outputId": "c627d161-c812-4c9e-f019-a1c2137c7efe"
      },
      "execution_count": 287,
      "outputs": [
        {
          "output_type": "stream",
          "name": "stdout",
          "text": [
            "predictors: ['venue_code', 'opp_code', 'hour', 'dayofweek'] | accuracy: 0.5725190839694656 | precision: 0.4878048780487805\n"
          ]
        }
      ]
    },
    {
      "cell_type": "code",
      "source": [
        ""
      ],
      "metadata": {
        "colab": {
          "base_uri": "https://localhost:8080/",
          "height": 74
        },
        "id": "vHwCSvd0r2Ea",
        "outputId": "1b8ad783-58d5-46b4-f6d5-1e093c2e13f6"
      },
      "execution_count": 216,
      "outputs": [
        {
          "output_type": "execute_result",
          "data": {
            "text/plain": [
              "RandomForestClassifier(min_samples_split=10, n_estimators=50, random_state=42)"
            ],
            "text/html": [
              "<style>#sk-container-id-3 {color: black;background-color: white;}#sk-container-id-3 pre{padding: 0;}#sk-container-id-3 div.sk-toggleable {background-color: white;}#sk-container-id-3 label.sk-toggleable__label {cursor: pointer;display: block;width: 100%;margin-bottom: 0;padding: 0.3em;box-sizing: border-box;text-align: center;}#sk-container-id-3 label.sk-toggleable__label-arrow:before {content: \"▸\";float: left;margin-right: 0.25em;color: #696969;}#sk-container-id-3 label.sk-toggleable__label-arrow:hover:before {color: black;}#sk-container-id-3 div.sk-estimator:hover label.sk-toggleable__label-arrow:before {color: black;}#sk-container-id-3 div.sk-toggleable__content {max-height: 0;max-width: 0;overflow: hidden;text-align: left;background-color: #f0f8ff;}#sk-container-id-3 div.sk-toggleable__content pre {margin: 0.2em;color: black;border-radius: 0.25em;background-color: #f0f8ff;}#sk-container-id-3 input.sk-toggleable__control:checked~div.sk-toggleable__content {max-height: 200px;max-width: 100%;overflow: auto;}#sk-container-id-3 input.sk-toggleable__control:checked~label.sk-toggleable__label-arrow:before {content: \"▾\";}#sk-container-id-3 div.sk-estimator input.sk-toggleable__control:checked~label.sk-toggleable__label {background-color: #d4ebff;}#sk-container-id-3 div.sk-label input.sk-toggleable__control:checked~label.sk-toggleable__label {background-color: #d4ebff;}#sk-container-id-3 input.sk-hidden--visually {border: 0;clip: rect(1px 1px 1px 1px);clip: rect(1px, 1px, 1px, 1px);height: 1px;margin: -1px;overflow: hidden;padding: 0;position: absolute;width: 1px;}#sk-container-id-3 div.sk-estimator {font-family: monospace;background-color: #f0f8ff;border: 1px dotted black;border-radius: 0.25em;box-sizing: border-box;margin-bottom: 0.5em;}#sk-container-id-3 div.sk-estimator:hover {background-color: #d4ebff;}#sk-container-id-3 div.sk-parallel-item::after {content: \"\";width: 100%;border-bottom: 1px solid gray;flex-grow: 1;}#sk-container-id-3 div.sk-label:hover label.sk-toggleable__label {background-color: #d4ebff;}#sk-container-id-3 div.sk-serial::before {content: \"\";position: absolute;border-left: 1px solid gray;box-sizing: border-box;top: 0;bottom: 0;left: 50%;z-index: 0;}#sk-container-id-3 div.sk-serial {display: flex;flex-direction: column;align-items: center;background-color: white;padding-right: 0.2em;padding-left: 0.2em;position: relative;}#sk-container-id-3 div.sk-item {position: relative;z-index: 1;}#sk-container-id-3 div.sk-parallel {display: flex;align-items: stretch;justify-content: center;background-color: white;position: relative;}#sk-container-id-3 div.sk-item::before, #sk-container-id-3 div.sk-parallel-item::before {content: \"\";position: absolute;border-left: 1px solid gray;box-sizing: border-box;top: 0;bottom: 0;left: 50%;z-index: -1;}#sk-container-id-3 div.sk-parallel-item {display: flex;flex-direction: column;z-index: 1;position: relative;background-color: white;}#sk-container-id-3 div.sk-parallel-item:first-child::after {align-self: flex-end;width: 50%;}#sk-container-id-3 div.sk-parallel-item:last-child::after {align-self: flex-start;width: 50%;}#sk-container-id-3 div.sk-parallel-item:only-child::after {width: 0;}#sk-container-id-3 div.sk-dashed-wrapped {border: 1px dashed gray;margin: 0 0.4em 0.5em 0.4em;box-sizing: border-box;padding-bottom: 0.4em;background-color: white;}#sk-container-id-3 div.sk-label label {font-family: monospace;font-weight: bold;display: inline-block;line-height: 1.2em;}#sk-container-id-3 div.sk-label-container {text-align: center;}#sk-container-id-3 div.sk-container {/* jupyter's `normalize.less` sets `[hidden] { display: none; }` but bootstrap.min.css set `[hidden] { display: none !important; }` so we also need the `!important` here to be able to override the default hidden behavior on the sphinx rendered scikit-learn.org. See: https://github.com/scikit-learn/scikit-learn/issues/21755 */display: inline-block !important;position: relative;}#sk-container-id-3 div.sk-text-repr-fallback {display: none;}</style><div id=\"sk-container-id-3\" class=\"sk-top-container\"><div class=\"sk-text-repr-fallback\"><pre>RandomForestClassifier(min_samples_split=10, n_estimators=50, random_state=42)</pre><b>In a Jupyter environment, please rerun this cell to show the HTML representation or trust the notebook. <br />On GitHub, the HTML representation is unable to render, please try loading this page with nbviewer.org.</b></div><div class=\"sk-container\" hidden><div class=\"sk-item\"><div class=\"sk-estimator sk-toggleable\"><input class=\"sk-toggleable__control sk-hidden--visually\" id=\"sk-estimator-id-3\" type=\"checkbox\" checked><label for=\"sk-estimator-id-3\" class=\"sk-toggleable__label sk-toggleable__label-arrow\">RandomForestClassifier</label><div class=\"sk-toggleable__content\"><pre>RandomForestClassifier(min_samples_split=10, n_estimators=50, random_state=42)</pre></div></div></div></div></div>"
            ]
          },
          "metadata": {},
          "execution_count": 216
        }
      ]
    },
    {
      "cell_type": "code",
      "source": [
        "preds = rf.predict(test[predictors])\n",
        "accuracy = accuracy_score(test[\"target\"], preds)\n",
        "precision = precision_score(test[\"target\"], preds)\n",
        "print( f\"predictors: {predictors} | accuracy: {accuracy} | precision: {precision}\" )"
      ],
      "metadata": {
        "colab": {
          "base_uri": "https://localhost:8080/"
        },
        "id": "Q3CtCIV3tX9Q",
        "outputId": "c5510b90-d7be-4bc6-b867-c0acb26b3e9d"
      },
      "execution_count": 230,
      "outputs": [
        {
          "output_type": "stream",
          "name": "stdout",
          "text": [
            "predictors: ['venue_code', 'opp_code', 'hour', 'dayofweek'] | accuracy: 0.5725190839694656 | precision: 0.45588235294117646\n"
          ]
        }
      ]
    },
    {
      "cell_type": "code",
      "source": [
        "combined = pd.DataFrame(dict(actual=test[\"target\"], prediction=preds))"
      ],
      "metadata": {
        "id": "7zU2gaRgtXz7"
      },
      "execution_count": 221,
      "outputs": []
    },
    {
      "cell_type": "markdown",
      "source": [],
      "metadata": {
        "id": "9BnLRDLhuvH6"
      }
    },
    {
      "cell_type": "code",
      "source": [
        "pd.crosstab(index=combined[\"actual\"], columns=combined[\"prediction\"])\n",
        "+31/68"
      ],
      "metadata": {
        "colab": {
          "base_uri": "https://localhost:8080/"
        },
        "id": "7oYkO56NuL55",
        "outputId": "6cc7c642-1dc9-4f7f-9601-5e6184358eae"
      },
      "execution_count": 227,
      "outputs": [
        {
          "output_type": "execute_result",
          "data": {
            "text/plain": [
              "0.45588235294117646"
            ]
          },
          "metadata": {},
          "execution_count": 227
        }
      ]
    }
  ]
}
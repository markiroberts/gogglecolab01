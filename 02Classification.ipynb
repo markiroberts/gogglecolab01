{
  "nbformat": 4,
  "nbformat_minor": 0,
  "metadata": {
    "colab": {
      "provenance": [],
      "gpuType": "T4",
      "authorship_tag": "ABX9TyOa1GPweizt1D0szL6dGJNz",
      "include_colab_link": true
    },
    "kernelspec": {
      "name": "python3",
      "display_name": "Python 3"
    },
    "language_info": {
      "name": "python"
    },
    "accelerator": "GPU"
  },
  "cells": [
    {
      "cell_type": "markdown",
      "metadata": {
        "id": "view-in-github",
        "colab_type": "text"
      },
      "source": [
        "<a href=\"https://colab.research.google.com/github/markiroberts/gogglecolab01/blob/main/02Classification.ipynb\" target=\"_parent\"><img src=\"https://colab.research.google.com/assets/colab-badge.svg\" alt=\"Open In Colab\"/></a>"
      ]
    },
    {
      "cell_type": "code",
      "execution_count": 1,
      "metadata": {
        "colab": {
          "base_uri": "https://localhost:8080/",
          "height": 35
        },
        "id": "ryrugOCJE286",
        "outputId": "a427b00a-43d4-4ad9-aada-0c54a3e8f253"
      },
      "outputs": [
        {
          "output_type": "execute_result",
          "data": {
            "text/plain": [
              "'2.1.0+cu121'"
            ],
            "application/vnd.google.colaboratory.intrinsic+json": {
              "type": "string"
            }
          },
          "metadata": {},
          "execution_count": 1
        }
      ],
      "source": [
        "# Import PyTorch and matplotlib\n",
        "import torch\n",
        "from torch import nn\n",
        "import matplotlib as plt\n",
        "\n",
        "# Check PyTorch Version\n",
        "torch.__version__"
      ]
    },
    {
      "cell_type": "code",
      "source": [
        "def plot_predictions(xtrain, ytrain, xtest, ytest, predictions=None):\n",
        "\n",
        "  plt.pyplot.figure(figsize=(10,7))\n",
        "  plt.pyplot.scatter(xtrain, ytrain,  c=\"b\", s=4,   marker=\".\", label=\"Training data\")\n",
        "  plt.pyplot.scatter(xtest,  ytest,   c=\"g\", s=4,  marker=\".\", label=\"Testing data\")\n",
        "  if predictions is not None:\n",
        "    titletext = f\"Element counts Training: {len(xtrain)}, Test: {len(xtest)}, Predictions:{len(predictions)}\"\n",
        "    plt.pyplot.scatter(xtest, predictions,   c=\"r\", s=4,  marker=\".\", label=\"Predictions\")\n",
        "  else:\n",
        "    titletext = f\"Element counts Training: {len(xtrain)}, Test: {len(xtest)}, Predictions: None\"\n",
        "\n",
        "  plt.pyplot.legend(prop={\"size\": 14})\n",
        "  plt.pyplot.title(titletext)"
      ],
      "metadata": {
        "id": "ZCo0A_rnRJ1k"
      },
      "execution_count": 2,
      "outputs": []
    },
    {
      "cell_type": "code",
      "source": [
        "def plot_loss(epochlist, train_losslist, test_losslist):\n",
        "\n",
        "  plt.pyplot.figure(figsize=(10,7))\n",
        "  plt.pyplot.scatter(epochlist, train_losslist,  c=\"b\", s=4,   marker=\".\", label=\"Training\")\n",
        "  plt.pyplot.scatter(epochlist, test_losslist,   c=\"r\", s=4,   marker=\".\", label=\"Test\")\n",
        "  titletext = f\"Loss vs. Epoch\"\n",
        "\n",
        "  plt.pyplot.legend(prop={\"size\": 14})\n",
        "  plt.pyplot.title(titletext)"
      ],
      "metadata": {
        "id": "6sErFw5Pek3f"
      },
      "execution_count": 3,
      "outputs": []
    },
    {
      "cell_type": "code",
      "source": [
        "def show_model(themodel):\n",
        "  for x in themodel.state_dict().items():\n",
        "    for y in x:\n",
        "      print (y, sep=\" \", end=\"\")\n",
        "      print(\"\\t\", end=\"\")\n",
        "    print (\" \")\n"
      ],
      "metadata": {
        "id": "JxC_i-Yh67Px"
      },
      "execution_count": 4,
      "outputs": []
    },
    {
      "cell_type": "markdown",
      "source": [
        "##Create device-agnostic code\n",
        "\n",
        "This means if we've got access to a GPU, our code will use"
      ],
      "metadata": {
        "id": "6IweyXq-FUEK"
      }
    },
    {
      "cell_type": "code",
      "source": [
        "# Setup device agnostic code.\n",
        "device = \"cuda\" if torch.cuda.is_available() else \"cpu\"\n",
        "print (f\"Device: {device}\")"
      ],
      "metadata": {
        "colab": {
          "base_uri": "https://localhost:8080/"
        },
        "id": "hzECjN2LFTog",
        "outputId": "950ffba5-a58e-4f98-ec57-4b11dc9b8484"
      },
      "execution_count": 15,
      "outputs": [
        {
          "output_type": "stream",
          "name": "stdout",
          "text": [
            "Device: cuda\n"
          ]
        }
      ]
    },
    {
      "cell_type": "code",
      "source": [],
      "metadata": {
        "id": "vAGGfnerwm6y"
      },
      "execution_count": null,
      "outputs": []
    }
  ]
}